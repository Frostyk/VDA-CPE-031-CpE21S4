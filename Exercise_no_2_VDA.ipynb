{
  "nbformat": 4,
  "nbformat_minor": 0,
  "metadata": {
    "colab": {
      "provenance": [],
      "authorship_tag": "ABX9TyO9J/XUbr51SIFBPzUxfOzH",
      "include_colab_link": true
    },
    "kernelspec": {
      "name": "python3",
      "display_name": "Python 3"
    },
    "language_info": {
      "name": "python"
    }
  },
  "cells": [
    {
      "cell_type": "markdown",
      "metadata": {
        "id": "view-in-github",
        "colab_type": "text"
      },
      "source": [
        "<a href=\"https://colab.research.google.com/github/KennJieValleser/VDA-CPE-031-CpE21S4/blob/main/Exercise_no_2_VDA.ipynb\" target=\"_parent\"><img src=\"https://colab.research.google.com/assets/colab-badge.svg\" alt=\"Open In Colab\"/></a>"
      ]
    },
    {
      "cell_type": "markdown",
      "source": [
        "# **Example 1**"
      ],
      "metadata": {
        "id": "SCyigs9PIcKQ"
      }
    },
    {
      "cell_type": "code",
      "execution_count": 1,
      "metadata": {
        "colab": {
          "base_uri": "https://localhost:8080/"
        },
        "id": "SRdln2efwD05",
        "outputId": "1fff74e3-e8c8-4f09-da66-9ff810e9db16"
      },
      "outputs": [
        {
          "output_type": "stream",
          "name": "stdout",
          "text": [
            "  animals  height\n",
            "0     Cat      13\n",
            "1     Dog      17\n",
            "2  Rabbit       8\n"
          ]
        }
      ],
      "source": [
        "import pandas\n",
        "\n",
        "mydataset = {'animals':[\"Cat\",\"Dog\",\"Rabbit\"],\n",
        "             'height':[13,17,8]}\n",
        "\n",
        "myvar = pandas.DataFrame(mydataset)\n",
        "\n",
        "print(myvar)"
      ]
    },
    {
      "cell_type": "markdown",
      "source": [
        "# **Example 2**"
      ],
      "metadata": {
        "id": "53lc78ylIktg"
      }
    },
    {
      "cell_type": "code",
      "source": [
        "import pandas as pd\n",
        "\n",
        "a = [1 , 7,2 ]\n",
        "\n",
        "myvar = pd.Series(a)\n",
        "\n",
        "print(myvar)"
      ],
      "metadata": {
        "colab": {
          "base_uri": "https://localhost:8080/"
        },
        "id": "9GJNFmkY2oEo",
        "outputId": "e66d653d-238c-4ae2-e44d-40aeb3440b19"
      },
      "execution_count": 2,
      "outputs": [
        {
          "output_type": "stream",
          "name": "stdout",
          "text": [
            "0    1\n",
            "1    7\n",
            "2    2\n",
            "dtype: int64\n"
          ]
        }
      ]
    },
    {
      "cell_type": "markdown",
      "source": [
        "# **Example 3**"
      ],
      "metadata": {
        "id": "1n_gC_sfIn6B"
      }
    },
    {
      "cell_type": "code",
      "source": [
        "import pandas as pd\n",
        "\n",
        "data = {\n",
        "\"age\": [42,38,39],\n",
        "\"weight\":[50,40,45]\n",
        "}\n",
        "\n",
        "myvar = pd.DataFrame(data)\n",
        "print(myvar.loc[0])"
      ],
      "metadata": {
        "colab": {
          "base_uri": "https://localhost:8080/"
        },
        "id": "NJzM3dQg_f2k",
        "outputId": "c39b19a8-109c-4515-bafd-9b24cf7ebd15"
      },
      "execution_count": 3,
      "outputs": [
        {
          "output_type": "stream",
          "name": "stdout",
          "text": [
            "age       42\n",
            "weight    50\n",
            "Name: 0, dtype: int64\n"
          ]
        }
      ]
    },
    {
      "cell_type": "markdown",
      "source": [
        "# **Example 4**"
      ],
      "metadata": {
        "id": "g-5KtT1-Ixeh"
      }
    },
    {
      "cell_type": "code",
      "source": [
        "import pandas as pd\n",
        "#series using data frames\n",
        "s1 = pd.Series([0,4,8])\n",
        "s2 = pd.Series([1,5,9])\n",
        "s3 = pd.Series([2,6,10])\n",
        "\n",
        "dframe = pd.DataFrame([s1,s2,s3])\n",
        "\n",
        "#print(dframe.drop(0))\n",
        "#print(dframe.loc[1:])\n",
        "print(dframe)"
      ],
      "metadata": {
        "colab": {
          "base_uri": "https://localhost:8080/"
        },
        "id": "JFs1snLRApvE",
        "outputId": "5ec42f07-3a4d-4a14-d32f-b427acc4b0d7"
      },
      "execution_count": 15,
      "outputs": [
        {
          "output_type": "stream",
          "name": "stdout",
          "text": [
            "   0  1   2\n",
            "0  0  4   8\n",
            "1  1  5   9\n",
            "2  2  6  10\n"
          ]
        }
      ]
    },
    {
      "cell_type": "markdown",
      "source": [
        "# **Example 5**"
      ],
      "metadata": {
        "id": "PVU0CUUWI0oJ"
      }
    },
    {
      "cell_type": "code",
      "source": [
        "import pandas as pd\n",
        "\n",
        "s1 = pd.Series([0, 4, 8])\n",
        "s2 = pd.Series([1, 5, 9])\n",
        "s3 = pd.Series([2, 6, 10])\n",
        "s4 = pd.Series([5, 10, 15])\n",
        "\n",
        "#Creating Multi-dimensional Table\n",
        "dframe = pd.DataFrame(data = [s1, s2, s3, s4], index = [0, 1, 2, 3], columns = [0, 1, 2])\n",
        "print(dframe)"
      ],
      "metadata": {
        "colab": {
          "base_uri": "https://localhost:8080/"
        },
        "id": "FNDg1uaKHoxp",
        "outputId": "671e11a5-0dfd-4297-8f3e-01e641e0a1ca"
      },
      "execution_count": 16,
      "outputs": [
        {
          "output_type": "stream",
          "name": "stdout",
          "text": [
            "   0   1   2\n",
            "0  0   4   8\n",
            "1  1   5   9\n",
            "2  2   6  10\n",
            "3  5  10  15\n"
          ]
        }
      ]
    },
    {
      "cell_type": "markdown",
      "source": [
        "# **Challenge 2**\n",
        "\n",
        "# How are you going delete indices no 0,1,3 leaving only all items in index 2?"
      ],
      "metadata": {
        "id": "wbz1sICGI-X5"
      }
    },
    {
      "cell_type": "code",
      "source": [
        "import pandas as pd\n",
        "\n",
        "s1 = pd.Series([0, 4, 8])\n",
        "s2 = pd.Series([1, 5, 9])\n",
        "s3 = pd.Series([2, 6, 10])\n",
        "s4 = pd.Series([3, 7, 11])\n",
        "\n",
        "dframe = pd.DataFrame([s1, s2, s3, s4])\n",
        "\n",
        "dframe = dframe.drop(index=[0, 1, 3])\n",
        "\n",
        "print(dframe)"
      ],
      "metadata": {
        "colab": {
          "base_uri": "https://localhost:8080/"
        },
        "id": "uqgRK0FrJCAx",
        "outputId": "12d90b39-5cfd-41de-fa7a-053be4b86eeb"
      },
      "execution_count": 20,
      "outputs": [
        {
          "output_type": "stream",
          "name": "stdout",
          "text": [
            "   0  1   2\n",
            "2  2  6  10\n"
          ]
        }
      ]
    }
  ]
}
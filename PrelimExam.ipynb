{
  "nbformat": 4,
  "nbformat_minor": 0,
  "metadata": {
    "colab": {
      "provenance": [],
      "authorship_tag": "ABX9TyODZRgwEjgM1QAdNuL9VXpu",
      "include_colab_link": true
    },
    "kernelspec": {
      "name": "python3",
      "display_name": "Python 3"
    },
    "language_info": {
      "name": "python"
    }
  },
  "cells": [
    {
      "cell_type": "markdown",
      "metadata": {
        "id": "view-in-github",
        "colab_type": "text"
      },
      "source": [
        "<a href=\"https://colab.research.google.com/github/KennJieValleser/VDA-CPE-031-CpE21S4/blob/main/PrelimExam.ipynb\" target=\"_parent\"><img src=\"https://colab.research.google.com/assets/colab-badge.svg\" alt=\"Open In Colab\"/></a>"
      ]
    },
    {
      "cell_type": "markdown",
      "source": [
        "# **Question 11**"
      ],
      "metadata": {
        "id": "fhKyq6O5E9Ma"
      }
    },
    {
      "cell_type": "code",
      "execution_count": 9,
      "metadata": {
        "colab": {
          "base_uri": "https://localhost:8080/"
        },
        "id": "bxRJVO2HCGTQ",
        "outputId": "09621b4f-99b2-4b6d-ed73-520bb6f1dee5"
      },
      "outputs": [
        {
          "output_type": "stream",
          "name": "stdout",
          "text": [
            "    X   Y   Z\n",
            "0  78  84  86\n",
            "1  85  94  97\n",
            "2  96  89  96\n",
            "3  80  83  72\n",
            "4  86  86  83\n"
          ]
        }
      ],
      "source": [
        "import pandas as pan\n",
        "\n",
        "a=[78, 84, 86]\n",
        "b=[85, 94, 97]\n",
        "c=[96, 89, 96]\n",
        "d=[80, 83, 72]\n",
        "e=[86, 86, 83]\n",
        "table=pan.DataFrame(data=[a, b, c, d, e], columns=['X', 'Y', 'Z'])\n",
        "\n",
        "print(table)"
      ]
    },
    {
      "cell_type": "markdown",
      "source": [
        "Question 12"
      ],
      "metadata": {
        "id": "ck2-PyVEFDPB"
      }
    },
    {
      "cell_type": "code",
      "source": [
        "import pandas as pan\n",
        "\n",
        "a=[1, 4, 7]\n",
        "b=[4, 5, 8]\n",
        "c=[3, 6, 9]\n",
        "d=[4, 7, 0]\n",
        "e=[5, 8, 1]\n",
        "\n",
        "print(\"Original DataFrame\")\n",
        "table=pan.DataFrame(data=[a, b, c, d, e], columns=['col1', 'col2', 'col3'])\n",
        "print(table)\n",
        "print(\"New DataFrame\")\n",
        "table=table.drop(index=[1])\n",
        "print(table)"
      ],
      "metadata": {
        "colab": {
          "base_uri": "https://localhost:8080/"
        },
        "id": "4QHMx5YrFE4U",
        "outputId": "00f79122-d4ee-42ab-ba06-4541d5446fb0"
      },
      "execution_count": 14,
      "outputs": [
        {
          "output_type": "stream",
          "name": "stdout",
          "text": [
            "Original DataFrame\n",
            "   col1  col2  col3\n",
            "0     1     4     7\n",
            "1     4     5     8\n",
            "2     3     6     9\n",
            "3     4     7     0\n",
            "4     5     8     1\n",
            "New DataFrame\n",
            "   col1  col2  col3\n",
            "0     1     4     7\n",
            "2     3     6     9\n",
            "3     4     7     0\n",
            "4     5     8     1\n"
          ]
        }
      ]
    },
    {
      "cell_type": "markdown",
      "source": [
        "Question 13"
      ],
      "metadata": {
        "id": "tt-wS4tTHUZp"
      }
    },
    {
      "cell_type": "code",
      "source": [
        "from tabulate import tabulate\n",
        "import pandas as pd\n",
        "table = pd.read_csv('ComputerData.csv')\n",
        "\n",
        "print(tabulate(table, headers='keys' ))\n",
        "table.to_csv('NewComputerData.csv')"
      ],
      "metadata": {
        "colab": {
          "base_uri": "https://localhost:8080/"
        },
        "id": "j2aJnLMDHR17",
        "outputId": "2039f7fe-e4b0-4e4f-d785-2ed6c696f141"
      },
      "execution_count": 32,
      "outputs": [
        {
          "output_type": "stream",
          "name": "stdout",
          "text": [
            "      Computer ID  Brand    Model        Processor      RAM (GB)    Storage (GB)  Graphics Card       Price ($)\n",
            "--  -------------  -------  -----------  -----------  ----------  --------------  ----------------  -----------\n",
            " 0              1  Dell     XPS 13       Intel i7             16             512  Intel Iris Xe            1200\n",
            " 1              2  HP       Pavilion 15  AMD Ryzen 5           8             256  AMD Radeon                800\n",
            " 2              3  Apple    MacBook Pro  Apple M1             16            1024  Apple Integrated         2400\n",
            " 3              4  Lenovo   ThinkPad X1  Intel i9             32             512  NVIDIA GTX 1650          1800\n",
            " 4              5  Asus     ZenBook 14   Intel i5             16             512  NVIDIA MX250             1000\n"
          ]
        }
      ]
    }
  ]
}